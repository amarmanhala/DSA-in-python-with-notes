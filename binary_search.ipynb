{
  "nbformat": 4,
  "nbformat_minor": 0,
  "metadata": {
    "colab": {
      "provenance": [],
      "authorship_tag": "ABX9TyMCRk0ZOW2Qjr1qNsxaDxia",
      "include_colab_link": true
    },
    "kernelspec": {
      "name": "python3",
      "display_name": "Python 3"
    },
    "language_info": {
      "name": "python"
    }
  },
  "cells": [
    {
      "cell_type": "markdown",
      "metadata": {
        "id": "view-in-github",
        "colab_type": "text"
      },
      "source": [
        "<a href=\"https://colab.research.google.com/github/amarmanhala/DSA-in-python-with-notes/blob/main/binary_search.ipynb\" target=\"_parent\"><img src=\"https://colab.research.google.com/assets/colab-badge.svg\" alt=\"Open In Colab\"/></a>"
      ]
    },
    {
      "cell_type": "code",
      "execution_count": 15,
      "metadata": {
        "id": "GLIYclDlEx3N"
      },
      "outputs": [],
      "source": [
        "def binary_search_with_recursion(arr, low, high, item):\n",
        "  print(\"Low is\", low, \"Hight is\", high, end=' ')\n",
        "\n",
        "  if low <= high:\n",
        "    #search\n",
        "    #find mid\n",
        "    mid = (low + high) // 2\n",
        "    print(\"Mid is\", mid)\n",
        "    if arr[mid] == item:\n",
        "      return mid\n",
        "    elif arr[mid] > item:\n",
        "      return binary_search_with_recursion(arr, low, mid - 1, item)\n",
        "    else:\n",
        "      return binary_search_with_recursion(arr, mid + 1, high, item)\n",
        "\n",
        "\n",
        "  else:\n",
        "    return -1\n",
        "\n"
      ]
    },
    {
      "cell_type": "code",
      "source": [
        "arr = [1,2,3,4,6,7,8,9]\n",
        "binary_search_with_recursion(arr, 0, len(arr) - 1, 100)"
      ],
      "metadata": {
        "colab": {
          "base_uri": "https://localhost:8080/"
        },
        "id": "BpXxap4GFiem",
        "outputId": "36b306e5-3c2e-481e-87f1-18242c15c871"
      },
      "execution_count": 16,
      "outputs": [
        {
          "output_type": "stream",
          "name": "stdout",
          "text": [
            "Low is 0 Hight is 7 Mid is 3\n",
            "Low is 4 Hight is 7 Mid is 5\n",
            "Low is 6 Hight is 7 Mid is 6\n",
            "Low is 7 Hight is 7 Mid is 7\n",
            "Low is 8 Hight is 7 "
          ]
        },
        {
          "output_type": "execute_result",
          "data": {
            "text/plain": [
              "-1"
            ]
          },
          "metadata": {},
          "execution_count": 16
        }
      ]
    }
  ]
}